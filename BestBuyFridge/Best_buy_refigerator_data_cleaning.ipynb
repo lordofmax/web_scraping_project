{
 "cells": [
  {
   "cell_type": "code",
   "execution_count": 1,
   "metadata": {},
   "outputs": [],
   "source": [
    "import pandas as pd\n",
    "import re\n",
    "import numpy as np\n",
    "from matplotlib import pyplot as plt\n",
    "plt.style.use('ggplot')"
   ]
  },
  {
   "cell_type": "code",
   "execution_count": 2,
   "metadata": {},
   "outputs": [],
   "source": [
    "%matplotlib inline"
   ]
  },
  {
   "cell_type": "code",
   "execution_count": 3,
   "metadata": {},
   "outputs": [],
   "source": [
    "df = pd.read_csv('bestbuyFridge.csv')"
   ]
  },
  {
   "cell_type": "code",
   "execution_count": 4,
   "metadata": {},
   "outputs": [
    {
     "data": {
      "text/html": [
       "<div>\n",
       "<style scoped>\n",
       "    .dataframe tbody tr th:only-of-type {\n",
       "        vertical-align: middle;\n",
       "    }\n",
       "\n",
       "    .dataframe tbody tr th {\n",
       "        vertical-align: top;\n",
       "    }\n",
       "\n",
       "    .dataframe thead th {\n",
       "        text-align: right;\n",
       "    }\n",
       "</style>\n",
       "<table border=\"1\" class=\"dataframe\">\n",
       "  <thead>\n",
       "    <tr style=\"text-align: right;\">\n",
       "      <th></th>\n",
       "      <th>brand</th>\n",
       "      <th>freezer_capacity</th>\n",
       "      <th>number_of_reviews</th>\n",
       "      <th>price</th>\n",
       "      <th>product_description</th>\n",
       "      <th>ratings</th>\n",
       "      <th>total_capacity</th>\n",
       "    </tr>\n",
       "  </thead>\n",
       "  <tbody>\n",
       "    <tr>\n",
       "      <th>0</th>\n",
       "      <td>Samsung</td>\n",
       "      <td>NaN</td>\n",
       "      <td>697</td>\n",
       "      <td>$1,199.99</td>\n",
       "      <td>Samsung - 30\" Wide, 22 cu. ft. French Door Ref...</td>\n",
       "      <td>4.6</td>\n",
       "      <td>NaN</td>\n",
       "    </tr>\n",
       "    <tr>\n",
       "      <th>1</th>\n",
       "      <td>Whirlpool</td>\n",
       "      <td>NaN</td>\n",
       "      <td>12</td>\n",
       "      <td>$749.99</td>\n",
       "      <td>Whirlpool - 18.2 Cu. Ft. Top-Freezer Refrigera...</td>\n",
       "      <td>4.2</td>\n",
       "      <td>NaN</td>\n",
       "    </tr>\n",
       "    <tr>\n",
       "      <th>2</th>\n",
       "      <td>KitchenAid</td>\n",
       "      <td>NaN</td>\n",
       "      <td>6</td>\n",
       "      <td>NaN</td>\n",
       "      <td>KitchenAid - 20.8 Cu. Ft. French Door Built-In...</td>\n",
       "      <td>4.8</td>\n",
       "      <td>NaN</td>\n",
       "    </tr>\n",
       "    <tr>\n",
       "      <th>3</th>\n",
       "      <td>Bosch</td>\n",
       "      <td>NaN</td>\n",
       "      <td>6</td>\n",
       "      <td>$2,429.99</td>\n",
       "      <td>Bosch - 800 Series 10.0 Cu. Ft. Counter-Depth ...</td>\n",
       "      <td>4.8</td>\n",
       "      <td>NaN</td>\n",
       "    </tr>\n",
       "    <tr>\n",
       "      <th>4</th>\n",
       "      <td>LG</td>\n",
       "      <td>NaN</td>\n",
       "      <td>576</td>\n",
       "      <td>$3,239.99</td>\n",
       "      <td>LG - 24.0 Cu. Ft. Counter-Depth French Door Re...</td>\n",
       "      <td>4.4</td>\n",
       "      <td>NaN</td>\n",
       "    </tr>\n",
       "  </tbody>\n",
       "</table>\n",
       "</div>"
      ],
      "text/plain": [
       "        brand  freezer_capacity number_of_reviews       price  \\\n",
       "0     Samsung               NaN               697  $1,199.99    \n",
       "1   Whirlpool               NaN                12    $749.99    \n",
       "2  KitchenAid               NaN                 6         NaN   \n",
       "3       Bosch               NaN                 6  $2,429.99    \n",
       "4          LG               NaN               576  $3,239.99    \n",
       "\n",
       "                                 product_description  ratings  total_capacity  \n",
       "0  Samsung - 30\" Wide, 22 cu. ft. French Door Ref...      4.6             NaN  \n",
       "1  Whirlpool - 18.2 Cu. Ft. Top-Freezer Refrigera...      4.2             NaN  \n",
       "2  KitchenAid - 20.8 Cu. Ft. French Door Built-In...      4.8             NaN  \n",
       "3  Bosch - 800 Series 10.0 Cu. Ft. Counter-Depth ...      4.8             NaN  \n",
       "4  LG - 24.0 Cu. Ft. Counter-Depth French Door Re...      4.4             NaN  "
      ]
     },
     "execution_count": 4,
     "metadata": {},
     "output_type": "execute_result"
    }
   ],
   "source": [
    "df.head(5)"
   ]
  },
  {
   "cell_type": "code",
   "execution_count": 5,
   "metadata": {},
   "outputs": [],
   "source": [
    "df.drop('freezer_capacity', axis = 1, inplace=True)"
   ]
  },
  {
   "cell_type": "code",
   "execution_count": 6,
   "metadata": {},
   "outputs": [],
   "source": [
    "df.drop('total_capacity',axis = 1, inplace = True)"
   ]
  },
  {
   "cell_type": "code",
   "execution_count": 7,
   "metadata": {},
   "outputs": [
    {
     "data": {
      "text/plain": [
       "(1002, 5)"
      ]
     },
     "execution_count": 7,
     "metadata": {},
     "output_type": "execute_result"
    }
   ],
   "source": [
    "df.shape"
   ]
  },
  {
   "cell_type": "code",
   "execution_count": 8,
   "metadata": {},
   "outputs": [],
   "source": [
    "style = ['French Door','Side-by-Side','Bottom-Freezer','Top-Freezer','No-Freezer','Compact']"
   ]
  },
  {
   "cell_type": "code",
   "execution_count": 9,
   "metadata": {},
   "outputs": [],
   "source": [
    "df['style'] = df.product_description.str.extract('({0})'.format('|'.join(style)), flags=re.IGNORECASE)"
   ]
  },
  {
   "cell_type": "code",
   "execution_count": 10,
   "metadata": {},
   "outputs": [
    {
     "data": {
      "text/html": [
       "<div>\n",
       "<style scoped>\n",
       "    .dataframe tbody tr th:only-of-type {\n",
       "        vertical-align: middle;\n",
       "    }\n",
       "\n",
       "    .dataframe tbody tr th {\n",
       "        vertical-align: top;\n",
       "    }\n",
       "\n",
       "    .dataframe thead th {\n",
       "        text-align: right;\n",
       "    }\n",
       "</style>\n",
       "<table border=\"1\" class=\"dataframe\">\n",
       "  <thead>\n",
       "    <tr style=\"text-align: right;\">\n",
       "      <th></th>\n",
       "      <th>brand</th>\n",
       "      <th>number_of_reviews</th>\n",
       "      <th>price</th>\n",
       "      <th>product_description</th>\n",
       "      <th>ratings</th>\n",
       "      <th>style</th>\n",
       "    </tr>\n",
       "  </thead>\n",
       "  <tbody>\n",
       "    <tr>\n",
       "      <th>0</th>\n",
       "      <td>Samsung</td>\n",
       "      <td>697</td>\n",
       "      <td>$1,199.99</td>\n",
       "      <td>Samsung - 30\" Wide, 22 cu. ft. French Door Ref...</td>\n",
       "      <td>4.6</td>\n",
       "      <td>French Door</td>\n",
       "    </tr>\n",
       "    <tr>\n",
       "      <th>1</th>\n",
       "      <td>Whirlpool</td>\n",
       "      <td>12</td>\n",
       "      <td>$749.99</td>\n",
       "      <td>Whirlpool - 18.2 Cu. Ft. Top-Freezer Refrigera...</td>\n",
       "      <td>4.2</td>\n",
       "      <td>Top-Freezer</td>\n",
       "    </tr>\n",
       "    <tr>\n",
       "      <th>2</th>\n",
       "      <td>KitchenAid</td>\n",
       "      <td>6</td>\n",
       "      <td>NaN</td>\n",
       "      <td>KitchenAid - 20.8 Cu. Ft. French Door Built-In...</td>\n",
       "      <td>4.8</td>\n",
       "      <td>French Door</td>\n",
       "    </tr>\n",
       "    <tr>\n",
       "      <th>3</th>\n",
       "      <td>Bosch</td>\n",
       "      <td>6</td>\n",
       "      <td>$2,429.99</td>\n",
       "      <td>Bosch - 800 Series 10.0 Cu. Ft. Counter-Depth ...</td>\n",
       "      <td>4.8</td>\n",
       "      <td>NaN</td>\n",
       "    </tr>\n",
       "    <tr>\n",
       "      <th>4</th>\n",
       "      <td>LG</td>\n",
       "      <td>576</td>\n",
       "      <td>$3,239.99</td>\n",
       "      <td>LG - 24.0 Cu. Ft. Counter-Depth French Door Re...</td>\n",
       "      <td>4.4</td>\n",
       "      <td>French Door</td>\n",
       "    </tr>\n",
       "  </tbody>\n",
       "</table>\n",
       "</div>"
      ],
      "text/plain": [
       "        brand number_of_reviews       price  \\\n",
       "0     Samsung               697  $1,199.99    \n",
       "1   Whirlpool                12    $749.99    \n",
       "2  KitchenAid                 6         NaN   \n",
       "3       Bosch                 6  $2,429.99    \n",
       "4          LG               576  $3,239.99    \n",
       "\n",
       "                                 product_description  ratings        style  \n",
       "0  Samsung - 30\" Wide, 22 cu. ft. French Door Ref...      4.6  French Door  \n",
       "1  Whirlpool - 18.2 Cu. Ft. Top-Freezer Refrigera...      4.2  Top-Freezer  \n",
       "2  KitchenAid - 20.8 Cu. Ft. French Door Built-In...      4.8  French Door  \n",
       "3  Bosch - 800 Series 10.0 Cu. Ft. Counter-Depth ...      4.8          NaN  \n",
       "4  LG - 24.0 Cu. Ft. Counter-Depth French Door Re...      4.4  French Door  "
      ]
     },
     "execution_count": 10,
     "metadata": {},
     "output_type": "execute_result"
    }
   ],
   "source": [
    "df.head(5)"
   ]
  },
  {
   "cell_type": "code",
   "execution_count": 11,
   "metadata": {},
   "outputs": [],
   "source": [
    "df.dropna(axis = 0, how ='any', inplace = True)"
   ]
  },
  {
   "cell_type": "code",
   "execution_count": 12,
   "metadata": {},
   "outputs": [
    {
     "data": {
      "text/html": [
       "<div>\n",
       "<style scoped>\n",
       "    .dataframe tbody tr th:only-of-type {\n",
       "        vertical-align: middle;\n",
       "    }\n",
       "\n",
       "    .dataframe tbody tr th {\n",
       "        vertical-align: top;\n",
       "    }\n",
       "\n",
       "    .dataframe thead th {\n",
       "        text-align: right;\n",
       "    }\n",
       "</style>\n",
       "<table border=\"1\" class=\"dataframe\">\n",
       "  <thead>\n",
       "    <tr style=\"text-align: right;\">\n",
       "      <th></th>\n",
       "      <th>brand</th>\n",
       "      <th>number_of_reviews</th>\n",
       "      <th>price</th>\n",
       "      <th>product_description</th>\n",
       "      <th>ratings</th>\n",
       "      <th>style</th>\n",
       "    </tr>\n",
       "  </thead>\n",
       "  <tbody>\n",
       "    <tr>\n",
       "      <th>996</th>\n",
       "      <td>Samsung</td>\n",
       "      <td>52</td>\n",
       "      <td>$1,349.99</td>\n",
       "      <td>Samsung - 19.4 Cu. Ft. French Door Refrigerato...</td>\n",
       "      <td>4.4</td>\n",
       "      <td>French Door</td>\n",
       "    </tr>\n",
       "    <tr>\n",
       "      <th>997</th>\n",
       "      <td>Frigidaire</td>\n",
       "      <td>76</td>\n",
       "      <td>$1,099.99</td>\n",
       "      <td>Frigidaire - Gallery 25.5 Cu. Ft. Side-by-Side...</td>\n",
       "      <td>4.3</td>\n",
       "      <td>Side-by-Side</td>\n",
       "    </tr>\n",
       "    <tr>\n",
       "      <th>999</th>\n",
       "      <td>Samsung</td>\n",
       "      <td>805</td>\n",
       "      <td>$2,799.99</td>\n",
       "      <td>Samsung - 27.8 Cu. Ft. 4-Door Flex French Door...</td>\n",
       "      <td>4.6</td>\n",
       "      <td>French Door</td>\n",
       "    </tr>\n",
       "    <tr>\n",
       "      <th>1000</th>\n",
       "      <td>GE</td>\n",
       "      <td>124</td>\n",
       "      <td>$999.99</td>\n",
       "      <td>GE - 25.4 Cu. Ft. Side-by-Side Refrigerator wi...</td>\n",
       "      <td>4.5</td>\n",
       "      <td>Side-by-Side</td>\n",
       "    </tr>\n",
       "    <tr>\n",
       "      <th>1001</th>\n",
       "      <td>Samsung</td>\n",
       "      <td>720</td>\n",
       "      <td>$2,199.99</td>\n",
       "      <td>Samsung - 24.73 Cu. Ft. 4-Door Flex French Doo...</td>\n",
       "      <td>4.4</td>\n",
       "      <td>French Door</td>\n",
       "    </tr>\n",
       "  </tbody>\n",
       "</table>\n",
       "</div>"
      ],
      "text/plain": [
       "           brand number_of_reviews       price  \\\n",
       "996      Samsung                52  $1,349.99    \n",
       "997   Frigidaire                76  $1,099.99    \n",
       "999      Samsung               805  $2,799.99    \n",
       "1000          GE               124    $999.99    \n",
       "1001     Samsung               720  $2,199.99    \n",
       "\n",
       "                                    product_description  ratings         style  \n",
       "996   Samsung - 19.4 Cu. Ft. French Door Refrigerato...      4.4   French Door  \n",
       "997   Frigidaire - Gallery 25.5 Cu. Ft. Side-by-Side...      4.3  Side-by-Side  \n",
       "999   Samsung - 27.8 Cu. Ft. 4-Door Flex French Door...      4.6   French Door  \n",
       "1000  GE - 25.4 Cu. Ft. Side-by-Side Refrigerator wi...      4.5  Side-by-Side  \n",
       "1001  Samsung - 24.73 Cu. Ft. 4-Door Flex French Doo...      4.4   French Door  "
      ]
     },
     "execution_count": 12,
     "metadata": {},
     "output_type": "execute_result"
    }
   ],
   "source": [
    "df.tail(5)"
   ]
  },
  {
   "cell_type": "code",
   "execution_count": 13,
   "metadata": {},
   "outputs": [
    {
     "data": {
      "text/plain": [
       "(662, 6)"
      ]
     },
     "execution_count": 13,
     "metadata": {},
     "output_type": "execute_result"
    }
   ],
   "source": [
    "df.shape"
   ]
  },
  {
   "cell_type": "code",
   "execution_count": 14,
   "metadata": {},
   "outputs": [
    {
     "data": {
      "text/html": [
       "<div>\n",
       "<style scoped>\n",
       "    .dataframe tbody tr th:only-of-type {\n",
       "        vertical-align: middle;\n",
       "    }\n",
       "\n",
       "    .dataframe tbody tr th {\n",
       "        vertical-align: top;\n",
       "    }\n",
       "\n",
       "    .dataframe thead th {\n",
       "        text-align: right;\n",
       "    }\n",
       "</style>\n",
       "<table border=\"1\" class=\"dataframe\">\n",
       "  <thead>\n",
       "    <tr style=\"text-align: right;\">\n",
       "      <th></th>\n",
       "      <th>brand</th>\n",
       "      <th>number_of_reviews</th>\n",
       "      <th>price</th>\n",
       "      <th>product_description</th>\n",
       "      <th>ratings</th>\n",
       "      <th>style</th>\n",
       "    </tr>\n",
       "  </thead>\n",
       "  <tbody>\n",
       "    <tr>\n",
       "      <th>0</th>\n",
       "      <td>Samsung</td>\n",
       "      <td>697</td>\n",
       "      <td>$1,199.99</td>\n",
       "      <td>Samsung - 30\" Wide, 22 cu. ft. French Door Ref...</td>\n",
       "      <td>4.6</td>\n",
       "      <td>French Door</td>\n",
       "    </tr>\n",
       "    <tr>\n",
       "      <th>1</th>\n",
       "      <td>Whirlpool</td>\n",
       "      <td>12</td>\n",
       "      <td>$749.99</td>\n",
       "      <td>Whirlpool - 18.2 Cu. Ft. Top-Freezer Refrigera...</td>\n",
       "      <td>4.2</td>\n",
       "      <td>Top-Freezer</td>\n",
       "    </tr>\n",
       "    <tr>\n",
       "      <th>4</th>\n",
       "      <td>LG</td>\n",
       "      <td>576</td>\n",
       "      <td>$3,239.99</td>\n",
       "      <td>LG - 24.0 Cu. Ft. Counter-Depth French Door Re...</td>\n",
       "      <td>4.4</td>\n",
       "      <td>French Door</td>\n",
       "    </tr>\n",
       "    <tr>\n",
       "      <th>5</th>\n",
       "      <td>Whirlpool</td>\n",
       "      <td>15</td>\n",
       "      <td>$749.99</td>\n",
       "      <td>Whirlpool - 18.2 Cu. Ft. Top-Freezer Refrigera...</td>\n",
       "      <td>3.7</td>\n",
       "      <td>Top-Freezer</td>\n",
       "    </tr>\n",
       "    <tr>\n",
       "      <th>7</th>\n",
       "      <td>GE</td>\n",
       "      <td>63</td>\n",
       "      <td>$2,159.99</td>\n",
       "      <td>GE - 23.8 Cu. Ft. French Door Refrigerator - H...</td>\n",
       "      <td>4.3</td>\n",
       "      <td>French Door</td>\n",
       "    </tr>\n",
       "  </tbody>\n",
       "</table>\n",
       "</div>"
      ],
      "text/plain": [
       "       brand number_of_reviews       price  \\\n",
       "0    Samsung               697  $1,199.99    \n",
       "1  Whirlpool                12    $749.99    \n",
       "4         LG               576  $3,239.99    \n",
       "5  Whirlpool                15    $749.99    \n",
       "7         GE                63  $2,159.99    \n",
       "\n",
       "                                 product_description  ratings        style  \n",
       "0  Samsung - 30\" Wide, 22 cu. ft. French Door Ref...      4.6  French Door  \n",
       "1  Whirlpool - 18.2 Cu. Ft. Top-Freezer Refrigera...      4.2  Top-Freezer  \n",
       "4  LG - 24.0 Cu. Ft. Counter-Depth French Door Re...      4.4  French Door  \n",
       "5  Whirlpool - 18.2 Cu. Ft. Top-Freezer Refrigera...      3.7  Top-Freezer  \n",
       "7  GE - 23.8 Cu. Ft. French Door Refrigerator - H...      4.3  French Door  "
      ]
     },
     "execution_count": 14,
     "metadata": {},
     "output_type": "execute_result"
    }
   ],
   "source": [
    "df.head(5)"
   ]
  },
  {
   "cell_type": "code",
   "execution_count": 15,
   "metadata": {},
   "outputs": [],
   "source": [
    "df['price'] = df['price'].str.replace('$','')"
   ]
  },
  {
   "cell_type": "code",
   "execution_count": 16,
   "metadata": {},
   "outputs": [],
   "source": [
    "df['price'] = df['price'].str.replace(',','')"
   ]
  },
  {
   "cell_type": "code",
   "execution_count": 17,
   "metadata": {},
   "outputs": [],
   "source": [
    "df['style'] = df['style'].str.lower()"
   ]
  },
  {
   "cell_type": "code",
   "execution_count": 18,
   "metadata": {},
   "outputs": [],
   "source": [
    "df['number_of_reviews'] = df['number_of_reviews'].str.replace(',','')"
   ]
  },
  {
   "cell_type": "code",
   "execution_count": 19,
   "metadata": {},
   "outputs": [
    {
     "data": {
      "text/html": [
       "<div>\n",
       "<style scoped>\n",
       "    .dataframe tbody tr th:only-of-type {\n",
       "        vertical-align: middle;\n",
       "    }\n",
       "\n",
       "    .dataframe tbody tr th {\n",
       "        vertical-align: top;\n",
       "    }\n",
       "\n",
       "    .dataframe thead th {\n",
       "        text-align: right;\n",
       "    }\n",
       "</style>\n",
       "<table border=\"1\" class=\"dataframe\">\n",
       "  <thead>\n",
       "    <tr style=\"text-align: right;\">\n",
       "      <th></th>\n",
       "      <th>brand</th>\n",
       "      <th>number_of_reviews</th>\n",
       "      <th>price</th>\n",
       "      <th>product_description</th>\n",
       "      <th>ratings</th>\n",
       "      <th>style</th>\n",
       "    </tr>\n",
       "  </thead>\n",
       "  <tbody>\n",
       "    <tr>\n",
       "      <th>0</th>\n",
       "      <td>Samsung</td>\n",
       "      <td>697</td>\n",
       "      <td>1199.99</td>\n",
       "      <td>Samsung - 30\" Wide, 22 cu. ft. French Door Ref...</td>\n",
       "      <td>4.6</td>\n",
       "      <td>french door</td>\n",
       "    </tr>\n",
       "    <tr>\n",
       "      <th>1</th>\n",
       "      <td>Whirlpool</td>\n",
       "      <td>12</td>\n",
       "      <td>749.99</td>\n",
       "      <td>Whirlpool - 18.2 Cu. Ft. Top-Freezer Refrigera...</td>\n",
       "      <td>4.2</td>\n",
       "      <td>top-freezer</td>\n",
       "    </tr>\n",
       "    <tr>\n",
       "      <th>4</th>\n",
       "      <td>LG</td>\n",
       "      <td>576</td>\n",
       "      <td>3239.99</td>\n",
       "      <td>LG - 24.0 Cu. Ft. Counter-Depth French Door Re...</td>\n",
       "      <td>4.4</td>\n",
       "      <td>french door</td>\n",
       "    </tr>\n",
       "    <tr>\n",
       "      <th>5</th>\n",
       "      <td>Whirlpool</td>\n",
       "      <td>15</td>\n",
       "      <td>749.99</td>\n",
       "      <td>Whirlpool - 18.2 Cu. Ft. Top-Freezer Refrigera...</td>\n",
       "      <td>3.7</td>\n",
       "      <td>top-freezer</td>\n",
       "    </tr>\n",
       "    <tr>\n",
       "      <th>7</th>\n",
       "      <td>GE</td>\n",
       "      <td>63</td>\n",
       "      <td>2159.99</td>\n",
       "      <td>GE - 23.8 Cu. Ft. French Door Refrigerator - H...</td>\n",
       "      <td>4.3</td>\n",
       "      <td>french door</td>\n",
       "    </tr>\n",
       "  </tbody>\n",
       "</table>\n",
       "</div>"
      ],
      "text/plain": [
       "       brand number_of_reviews     price  \\\n",
       "0    Samsung               697  1199.99    \n",
       "1  Whirlpool                12   749.99    \n",
       "4         LG               576  3239.99    \n",
       "5  Whirlpool                15   749.99    \n",
       "7         GE                63  2159.99    \n",
       "\n",
       "                                 product_description  ratings        style  \n",
       "0  Samsung - 30\" Wide, 22 cu. ft. French Door Ref...      4.6  french door  \n",
       "1  Whirlpool - 18.2 Cu. Ft. Top-Freezer Refrigera...      4.2  top-freezer  \n",
       "4  LG - 24.0 Cu. Ft. Counter-Depth French Door Re...      4.4  french door  \n",
       "5  Whirlpool - 18.2 Cu. Ft. Top-Freezer Refrigera...      3.7  top-freezer  \n",
       "7  GE - 23.8 Cu. Ft. French Door Refrigerator - H...      4.3  french door  "
      ]
     },
     "execution_count": 19,
     "metadata": {},
     "output_type": "execute_result"
    }
   ],
   "source": [
    "df.head()"
   ]
  },
  {
   "cell_type": "code",
   "execution_count": null,
   "metadata": {},
   "outputs": [],
   "source": [
    "# What facto determind the price of the refigerator?"
   ]
  },
  {
   "cell_type": "code",
   "execution_count": null,
   "metadata": {},
   "outputs": [],
   "source": [
    "#First of all: What's the relationship between price and brand?"
   ]
  },
  {
   "cell_type": "code",
   "execution_count": 20,
   "metadata": {},
   "outputs": [
    {
     "data": {
      "text/plain": [
       "brand                   object\n",
       "number_of_reviews       object\n",
       "price                   object\n",
       "product_description     object\n",
       "ratings                float64\n",
       "style                   object\n",
       "dtype: object"
      ]
     },
     "execution_count": 20,
     "metadata": {},
     "output_type": "execute_result"
    }
   ],
   "source": [
    "df.dtypes"
   ]
  },
  {
   "cell_type": "code",
   "execution_count": 21,
   "metadata": {},
   "outputs": [],
   "source": [
    "df['price'] = df['price'].str.strip()"
   ]
  },
  {
   "cell_type": "code",
   "execution_count": 22,
   "metadata": {},
   "outputs": [],
   "source": [
    "df['price']=df.price.astype('float')"
   ]
  },
  {
   "cell_type": "code",
   "execution_count": 23,
   "metadata": {},
   "outputs": [],
   "source": [
    "df['brand']=df.brand.astype('str')"
   ]
  },
  {
   "cell_type": "code",
   "execution_count": 24,
   "metadata": {},
   "outputs": [],
   "source": [
    "df['number_of_reviews']=df.number_of_reviews.astype('int')"
   ]
  },
  {
   "cell_type": "code",
   "execution_count": 25,
   "metadata": {},
   "outputs": [],
   "source": [
    "df['ratings'] = df.ratings.astype('float')"
   ]
  },
  {
   "cell_type": "code",
   "execution_count": 26,
   "metadata": {},
   "outputs": [
    {
     "data": {
      "text/plain": [
       "brand                   object\n",
       "number_of_reviews        int32\n",
       "price                  float64\n",
       "product_description     object\n",
       "ratings                float64\n",
       "style                   object\n",
       "dtype: object"
      ]
     },
     "execution_count": 26,
     "metadata": {},
     "output_type": "execute_result"
    }
   ],
   "source": [
    "df.dtypes"
   ]
  },
  {
   "cell_type": "code",
   "execution_count": 27,
   "metadata": {},
   "outputs": [
    {
     "data": {
      "text/plain": [
       "GE            162\n",
       "Whirlpool     138\n",
       "Samsung       100\n",
       "LG             56\n",
       "KitchenAid     36\n",
       "Viking         30\n",
       "Maytag         23\n",
       "Frigidaire     23\n",
       "Amana          20\n",
       "Insignia™      13\n",
       "Café           12\n",
       "JennAir        10\n",
       "Monogram        9\n",
       "Fisher          8\n",
       "Haier           7\n",
       "Hotpoint        5\n",
       "Bosch           5\n",
       "Thermador       2\n",
       "Dacor           2\n",
       "Danby           1\n",
       "Name: brand, dtype: int64"
      ]
     },
     "execution_count": 27,
     "metadata": {},
     "output_type": "execute_result"
    }
   ],
   "source": [
    "df['brand'].value_counts()"
   ]
  },
  {
   "cell_type": "code",
   "execution_count": 28,
   "metadata": {},
   "outputs": [
    {
     "data": {
      "text/plain": [
       "<matplotlib.axes._subplots.AxesSubplot at 0x26e7914a278>"
      ]
     },
     "execution_count": 28,
     "metadata": {},
     "output_type": "execute_result"
    },
    {
     "data": {
      "image/png": "[encoded data removed]",
      "text/plain": [
       "<Figure size 864x432 with 1 Axes>"
      ]
     },
     "metadata": {
      "needs_background": "light"
     },
     "output_type": "display_data"
    }
   ],
   "source": [
    "plt.figure(figsize=(12,6))\n",
    "df.groupby('brand')['price'].mean().sort_values(ascending=False).plot.bar(color = 'b')"
   ]
  },
  {
   "cell_type": "code",
   "execution_count": 29,
   "metadata": {},
   "outputs": [],
   "source": [
    "import seaborn as sns"
   ]
  },
  {
   "cell_type": "code",
   "execution_count": 30,
   "metadata": {},
   "outputs": [
    {
     "data": {
      "text/plain": [
       "<seaborn.axisgrid.FacetGrid at 0x26e7a2a7630>"
      ]
     },
     "execution_count": 30,
     "metadata": {},
     "output_type": "execute_result"
    },
    {
     "data": {
      "image/png": "[encoded data removed]",
      "text/plain": [
       "<Figure size 1440x720 with 1 Axes>"
      ]
     },
     "metadata": {
      "needs_background": "light"
     },
     "output_type": "display_data"
    }
   ],
   "source": [
    "sns.lmplot(\"price\",\"number_of_reviews\",df,line_kws={'color':'blue'}, scatter_kws= {'color':'gray'},height = 10,aspect = 2)"
   ]
  },
  {
   "cell_type": "code",
   "execution_count": 32,
   "metadata": {},
   "outputs": [
    {
     "data": {
      "text/plain": [
       "<matplotlib.axes._subplots.AxesSubplot at 0x26e7a71cb00>"
      ]
     },
     "execution_count": 32,
     "metadata": {},
     "output_type": "execute_result"
    },
    {
     "data": {
      "image/png": "[encoded data removed]",
      "text/plain": [
       "<Figure size 1152x432 with 1 Axes>"
      ]
     },
     "metadata": {
      "needs_background": "light"
     },
     "output_type": "display_data"
    }
   ],
   "source": [
    "plt.figure(figsize=(16, 6))\n",
    "sns.boxplot(x='ratings', y='price', data=df, width = 0.5)"
   ]
  },
  {
   "cell_type": "code",
   "execution_count": 33,
   "metadata": {},
   "outputs": [
    {
     "data": {
      "text/plain": [
       "<matplotlib.axes._subplots.AxesSubplot at 0x26e7c52f0b8>"
      ]
     },
     "execution_count": 33,
     "metadata": {},
     "output_type": "execute_result"
    },
    {
     "data": {
      "image/png": "[encoded data removed]",
      "text/plain": [
       "<Figure size 1008x576 with 1 Axes>"
      ]
     },
     "metadata": {
      "needs_background": "light"
     },
     "output_type": "display_data"
    }
   ],
   "source": [
    "plt.figure(figsize=(14,8))\n",
    "df.groupby('style')['price'].mean().sort_values(ascending=False).plot.barh(color='green')"
   ]
  },
  {
   "cell_type": "code",
   "execution_count": 34,
   "metadata": {},
   "outputs": [
    {
     "data": {
      "text/plain": [
       "french door       308\n",
       "side-by-side      150\n",
       "top-freezer       139\n",
       "bottom-freezer     63\n",
       "compact             2\n",
       "Name: style, dtype: int64"
      ]
     },
     "execution_count": 34,
     "metadata": {},
     "output_type": "execute_result"
    }
   ],
   "source": [
    "df['style'].value_counts()"
   ]
  },
  {
   "cell_type": "code",
   "execution_count": 35,
   "metadata": {},
   "outputs": [],
   "source": [
    "No_reviews_rating = df[['ratings', 'number_of_reviews']]"
   ]
  },
  {
   "cell_type": "code",
   "execution_count": 38,
   "metadata": {},
   "outputs": [
    {
     "data": {
      "image/png": "[encoded data removed]",
      "text/plain": [
       "<Figure size 432x288 with 1 Axes>"
      ]
     },
     "metadata": {
      "needs_background": "light"
     },
     "output_type": "display_data"
    }
   ],
   "source": [
    "plt=No_reviews_rating.plot.scatter('number_of_reviews','ratings')"
   ]
  }
 ],
 "metadata": {
  "kernelspec": {
   "display_name": "Python 3",
   "language": "python",
   "name": "python3"
  },
  "language_info": {
   "codemirror_mode": {
    "name": "ipython",
    "version": 3
   },
   "file_extension": ".py",
   "mimetype": "text/x-python",
   "name": "python",
   "nbconvert_exporter": "python",
   "pygments_lexer": "ipython3",
   "version": "3.7.3"
  }
 },
 "nbformat": 4,
 "nbformat_minor": 2
}
